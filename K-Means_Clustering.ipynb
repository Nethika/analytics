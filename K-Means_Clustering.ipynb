{
 "cells": [
  {
   "cell_type": "markdown",
   "metadata": {},
   "source": [
    "# K-Means_Clustering\n",
    "\n",
    "\n",
    "https://github.com/lucianoviola/energy_clustering/blob/master/load-clustering.ipynb\n",
    "\n",
    "https://towardsdatascience.com/clustering-electricity-profiles-with-k-means-42d6d0644d00 https://gist.github.com/lucianoviola"
   ]
  },
  {
   "cell_type": "code",
   "execution_count": 6,
   "metadata": {},
   "outputs": [],
   "source": [
    "%matplotlib inline\n",
    "\n",
    "import pandas as pd\n",
    "import numpy as np\n",
    "import matplotlib.pyplot as plt\n",
    "\n",
    "plt.style.use('seaborn')"
   ]
  },
  {
   "cell_type": "code",
   "execution_count": 7,
   "metadata": {},
   "outputs": [],
   "source": [
    "from sklearn.cluster import KMeans\n",
    "from sklearn.preprocessing import MinMaxScaler\n",
    "from sklearn.metrics import silhouette_score"
   ]
  },
  {
   "cell_type": "code",
   "execution_count": null,
   "metadata": {},
   "outputs": [
    {
     "name": "stderr",
     "output_type": "stream",
     "text": [
      "/Users/nsurawee/Documents/v_env/p3-8/lib/python3.8/site-packages/IPython/core/interactiveshell.py:3145: DtypeWarning: Columns (2) have mixed types.Specify dtype option on import or set low_memory=False.\n",
      "  has_raised = await self.run_ast_nodes(code_ast.body, cell_name,\n"
     ]
    }
   ],
   "source": [
    "data_path =  'data/household_power_consumption.txt'\n",
    "cols_to_use = ['Date', 'Time','Global_active_power']\n",
    "\n",
    "df_uci = pd.read_csv(data_path, sep=';', usecols=cols_to_use)\n",
    "\n",
    "df_uci['datetime'] = pd.to_datetime(df_uci['Date'] + ' '+ df_uci['Time'])\n",
    "df_uci = df_uci.drop(['Date','Time'], axis=1)\n",
    "df_uci = df_uci.set_index('datetime')\n",
    "\n",
    "df_uci = df_uci.replace('?', np.nan)\n",
    "df_uci = df_uci.astype(np.float).fillna(method='bfill')\n",
    "\n",
    "# For simplication,\n",
    "# I will resample so that each row\n",
    "# represents a whole hour\n",
    "df_uci_hourly = df_uci.resample('H').sum()\n",
    "df_uci_hourly['hour'] = df_uci_hourly.index.hour\n",
    "df_uci_hourly.index = df_uci_hourly.index.date\n",
    "\n",
    "df_uci_pivot = df_uci_hourly.pivot(columns='hour')\n",
    "df_uci_pivot = df_uci_pivot.dropna()\n",
    "\n",
    "df_uci_pivot.T.plot(figsize=(13,8), legend=False, color='blue', alpha=0.02)\n"
   ]
  },
  {
   "cell_type": "code",
   "execution_count": null,
   "metadata": {},
   "outputs": [],
   "source": [
    "from sklearn.cluster import KMeans\n",
    "from sklearn.preprocessing import MinMaxScaler\n",
    "from sklearn.metrics import silhouette_score\n",
    "\n",
    "sillhoute_scores = []\n",
    "n_cluster_list = np.arange(2,31).astype(int)\n",
    "\n",
    "X = df_uci_pivot.values.copy()\n",
    "    \n",
    "# Very important to scale!\n",
    "sc = MinMaxScaler()\n",
    "X = sc.fit_transform(X)\n",
    "\n",
    "for n_cluster in n_cluster_list:\n",
    "    \n",
    "    kmeans = KMeans(n_clusters=n_cluster)\n",
    "    cluster_found = kmeans.fit_predict(X)\n",
    "    sillhoute_scores.append(silhouette_score(X, kmeans.labels_))"
   ]
  },
  {
   "cell_type": "code",
   "execution_count": null,
   "metadata": {},
   "outputs": [],
   "source": [
    "kmeans = KMeans(n_clusters=3)\n",
    "cluster_found = kmeans.fit_predict(X)\n",
    "cluster_found_sr = pd.Series(cluster_found, name='cluster')\n",
    "df_uci_pivot = df_uci_pivot.set_index(cluster_found_sr, append=True )\n",
    "\n",
    "fig, ax= plt.subplots(1,1, figsize=(18,10))\n",
    "color_list = ['blue','red','green']\n",
    "cluster_values = sorted(df_uci_pivot.index.get_level_values('cluster').unique())\n",
    "\n",
    "for cluster, color in zip(cluster_values, color_list):\n",
    "    df_uci_pivot.xs(cluster, level=1).T.plot(\n",
    "        ax=ax, legend=False, alpha=0.01, color=color, label= f'Cluster {cluster}'\n",
    "        )\n",
    "    df_uci_pivot.xs(cluster, level=1).median().plot(\n",
    "        ax=ax, color=color, alpha=0.9, ls='--'\n",
    "    )\n",
    "\n",
    "ax.set_xticks(np.arange(1,25))\n",
    "ax.set_ylabel('kilowatts')\n",
    "ax.set_xlabel('hour')\n",
    "ax.legend()"
   ]
  },
  {
   "cell_type": "code",
   "execution_count": null,
   "metadata": {},
   "outputs": [],
   "source": [
    "from sklearn.manifold import TSNE\n",
    "import matplotlib.colors\n",
    "\n",
    "tsne = TSNE()\n",
    "results_tsne = tsne.fit_transform(X)\n",
    "\n",
    "cmap = matplotlib.colors.LinearSegmentedColormap.from_list(cluster_values, color_list)\n",
    "\n",
    "plt.scatter(results_tsne[:,0], results_tsne[:,1],\n",
    "    c=df_uci_pivot.index.get_level_values('cluster'),\n",
    "    cmap=cmap, \n",
    "    alpha=0.6, \n",
    "    )"
   ]
  }
 ],
 "metadata": {
  "kernelspec": {
   "display_name": "p3-8",
   "language": "python",
   "name": "p3-8"
  },
  "language_info": {
   "codemirror_mode": {
    "name": "ipython",
    "version": 3
   },
   "file_extension": ".py",
   "mimetype": "text/x-python",
   "name": "python",
   "nbconvert_exporter": "python",
   "pygments_lexer": "ipython3",
   "version": "3.8.5"
  }
 },
 "nbformat": 4,
 "nbformat_minor": 4
}
